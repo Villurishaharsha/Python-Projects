{
  "nbformat": 4,
  "nbformat_minor": 0,
  "metadata": {
    "colab": {
      "provenance": [],
      "authorship_tag": "ABX9TyP/GRjjRbitZDwK8CRBrP+R",
      "include_colab_link": true
    },
    "kernelspec": {
      "name": "python3",
      "display_name": "Python 3"
    },
    "language_info": {
      "name": "python"
    }
  },
  "cells": [
    {
      "cell_type": "markdown",
      "metadata": {
        "id": "view-in-github",
        "colab_type": "text"
      },
      "source": [
        "<a href=\"https://colab.research.google.com/github/Villurishaharsha/Python-Projects/blob/main/project_3.ipynb\" target=\"_parent\"><img src=\"https://colab.research.google.com/assets/colab-badge.svg\" alt=\"Open In Colab\"/></a>"
      ]
    },
    {
      "cell_type": "code",
      "execution_count": null,
      "metadata": {
        "colab": {
          "base_uri": "https://localhost:8080/"
        },
        "id": "61n8bcnhlCoO",
        "outputId": "6dd9fc60-29c9-4b3c-e8f8-0a5425149b36"
      },
      "outputs": [
        {
          "output_type": "stream",
          "name": "stdout",
          "text": [
            "Requirement already satisfied: openpyxl in /usr/local/lib/python3.10/dist-packages (3.0.10)\n",
            "Requirement already satisfied: et-xmlfile in /usr/local/lib/python3.10/dist-packages (from openpyxl) (1.1.0)\n"
          ]
        }
      ],
      "source": [
        "pip install openpyxl"
      ]
    },
    {
      "cell_type": "code",
      "source": [
        "import openpyxl\n",
        "\n",
        "def push_data_to_excel(data):\n",
        "    # Create a new Excel file\n",
        "    excel_file = openpyxl.Workbook()\n",
        "\n",
        "    # Create a new sheet in the Excel file\n",
        "    sheet = excel_file.active\n",
        "\n",
        "    # Add the roll number and name to the sheet\n",
        "    sheet[\"A1\"] = \"Roll Number\"\n",
        "    sheet[\"B1\"] = \"Name\"\n",
        "\n",
        "    # Iterate through the data and add it to the sheet\n",
        "    for row in range(len(data)):\n",
        "        roll_number = data[row][0]\n",
        "        name = data[row][1]\n",
        "        sheet[\"A\" + str(row + 2)] = roll_number\n",
        "        sheet[\"B\" + str(row + 2)] = name\n",
        "\n",
        "    # Save the Excel file\n",
        "    excel_file.save(\"/content/info.xlsx\")\n",
        "\n",
        "if __name__ == \"__main__\":\n",
        "    # Get the data from the user\n",
        "    data = []\n",
        "    for _ in range(int(input(\"Enter the number of students: \"))):\n",
        "        roll_number = input(\"Enter the roll number: \")\n",
        "        name = input(\"Enter the name: \")\n",
        "        data.append((roll_number, name))\n",
        "\n",
        "    # Push the data to Excel\n",
        "    push_data_to_excel(data)\n",
        "    print(\"Successfully pushed the data to Excel.\")"
      ],
      "metadata": {
        "colab": {
          "base_uri": "https://localhost:8080/"
        },
        "id": "bCrg8FzklczX",
        "outputId": "df5c4b7c-6703-450a-8953-3fcca6eaf8e4"
      },
      "execution_count": null,
      "outputs": [
        {
          "output_type": "stream",
          "name": "stdout",
          "text": [
            "Enter the number of students: 4\n",
            "Enter the roll number: 101\n",
            "Enter the name: hari\n",
            "Enter the roll number: 102\n",
            "Enter the name: hanu\n",
            "Enter the roll number: 103\n",
            "Enter the name: shiva\n",
            "Enter the roll number: 104\n",
            "Enter the name: krishna\n",
            "Successfully pushed the data to Excel.\n"
          ]
        }
      ]
    },
    {
      "cell_type": "code",
      "source": [],
      "metadata": {
        "id": "N4wQSprjmDWF"
      },
      "execution_count": null,
      "outputs": []
    }
  ]
}