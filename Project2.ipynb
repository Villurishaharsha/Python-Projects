{
 "cells": [
  {
   "cell_type": "code",
   "execution_count": 1,
   "id": "c10f8141",
   "metadata": {},
   "outputs": [
    {
     "name": "stdout",
     "output_type": "stream",
     "text": [
      "Requirement already satisfied: pygame in c:\\users\\shaharsha\\anaconda3\\lib\\site-packages (2.5.0)\n",
      "Note: you may need to restart the kernel to use updated packages.\n"
     ]
    }
   ],
   "source": [
    "pip install pygame"
   ]
  },
  {
   "cell_type": "code",
   "execution_count": 1,
   "id": "fbbde3a7",
   "metadata": {},
   "outputs": [
    {
     "name": "stdout",
     "output_type": "stream",
     "text": [
      "pygame 2.5.0 (SDL 2.28.0, Python 3.9.7)\n",
      "Hello from the pygame community. https://www.pygame.org/contribute.html\n"
     ]
    }
   ],
   "source": [
    "import pygame as pg\n",
    "\n",
    "y, step = 15, 16\n",
    "head, segments = 17, [15, 16, 17]\n",
    "n, apple = step, 99\n",
    "\n",
    "# Ensure that n is non-zero to avoid ZeroDivisionError\n",
    "if n == 0:\n",
    "    n = 1\n",
    "\n",
    "screen_size = [225] * 2\n",
    "screen = pg.display.set_mode(screen_size, pg.SCALED)\n",
    "\n",
    "running = True\n",
    "\n",
    "while running:\n",
    "    for e in pg.event.get():\n",
    "        if e.type == pg.QUIT:\n",
    "            running = False\n",
    "        elif e.type == pg.KEYDOWN:\n",
    "            step = (e.key % 4 + 17 + 15) % 49 - n\n",
    "\n",
    "    segments = segments[apple:] + [head + step]\n",
    "    screen.fill('black')\n",
    "\n",
    "    if apple == head:\n",
    "        apple = segments[0]\n",
    "\n",
    "    for i, v in enumerate([apple] + segments):\n",
    "        pg.draw.rect(screen, 'green' if i else 'red',\n",
    "                     ((v - 1) % n * y, (v - n) // n * y, y, y))\n",
    "\n",
    "    pg.display.flip()\n",
    "\n",
    "    head += step\n",
    "\n",
    "    pg.time.wait(200)\n",
    "\n",
    "pg.quit()"
   ]
  },
  {
   "cell_type": "code",
   "execution_count": null,
   "id": "d25a6d86",
   "metadata": {},
   "outputs": [],
   "source": []
  },
  {
   "cell_type": "code",
   "execution_count": null,
   "id": "ff26707b",
   "metadata": {},
   "outputs": [],
   "source": []
  },
  {
   "cell_type": "code",
   "execution_count": null,
   "id": "fdc9f5cf",
   "metadata": {},
   "outputs": [],
   "source": []
  }
 ],
 "metadata": {
  "kernelspec": {
   "display_name": "Python 3 (ipykernel)",
   "language": "python",
   "name": "python3"
  },
  "language_info": {
   "codemirror_mode": {
    "name": "ipython",
    "version": 3
   },
   "file_extension": ".py",
   "mimetype": "text/x-python",
   "name": "python",
   "nbconvert_exporter": "python",
   "pygments_lexer": "ipython3",
   "version": "3.9.7"
  }
 },
 "nbformat": 4,
 "nbformat_minor": 5
}
